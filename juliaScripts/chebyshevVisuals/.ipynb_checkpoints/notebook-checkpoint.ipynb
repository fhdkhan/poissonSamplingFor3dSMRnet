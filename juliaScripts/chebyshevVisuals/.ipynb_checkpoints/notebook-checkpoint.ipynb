{
 "cells": [
  {
   "cell_type": "code",
   "execution_count": 1,
   "metadata": {},
   "outputs": [],
   "source": [
    "using PyPlot,ImageMagick"
   ]
  },
  {
   "cell_type": "code",
   "execution_count": 2,
   "metadata": {},
   "outputs": [],
   "source": [
    "x =[-1:0.01:1;];\n",
    "X = repeat(x, outer = [1,length(x)]);\n",
    "Y = transpose(X);"
   ]
  },
  {
   "cell_type": "code",
   "execution_count": null,
   "metadata": {},
   "outputs": [],
   "source": [
    "indexes = 1:7\n",
    "pad = 25;\n",
    "\n",
    "for l in indexes\n",
    "    for k in indexes\n",
    "        tp = sin.(l*acos.(Y)).*sin.(k*acos.(X))\n",
    "        padding = zeros(pad,size(tp,1));\n",
    "        tp = [padding;tp;padding];\n",
    "        padding = zeros(pad,size(tp,1));\n",
    "        tp =[padding;transpose(tp);padding];\n",
    "        figure(1)\n",
    "        subplots_adjust(top = 1, bottom = 0, right = 1, left = 0, hspace = 0, wspace = 0)\n",
    "        ax = imshow(abs.(transpose(tp)),cmap=\"gray\")\n",
    "        gca().set_axis_off()\n",
    "        margins(0,0)\n",
    "        savefig(\"imagesSF/pattern_l$(l)_k$(k).pdf\",bbox_inches=\"tight\",pad_inches=0)\n",
    "    end\n",
    "end"
   ]
  },
  {
   "cell_type": "code",
   "execution_count": null,
   "metadata": {},
   "outputs": [],
   "source": [
    "indexes = 1:7\n",
    "pad = 25;\n",
    "l = 0;\n",
    "\n",
    "for k in indexes\n",
    "    tp = sin.(k*acos.(X))\n",
    "    padding = zeros(pad,size(tp,1));\n",
    "    tp = [padding;tp;padding];\n",
    "    padding = zeros(pad,size(tp,1));\n",
    "    tp =[padding;transpose(tp);padding];\n",
    "    figure(1)\n",
    "    subplots_adjust(top = 1, bottom = 0, right = 1, left = 0, hspace = 0, wspace = 0)\n",
    "    ax = imshow(abs.(transpose(tp)),cmap=\"gray\")\n",
    "    gca().set_axis_off()\n",
    "    margins(0,0)\n",
    "    savefig(\"imagesSF/pattern_l$(l)_k$(k).pdf\",bbox_inches=\"tight\",pad_inches=0)\n",
    "end\n"
   ]
  },
  {
   "cell_type": "code",
   "execution_count": null,
   "metadata": {},
   "outputs": [],
   "source": [
    "indexes = 1:7\n",
    "pad = 25;\n",
    "k = 0;\n",
    "for l in indexes\n",
    "    tp = sin.(l*acos.(Y))\n",
    "    padding = zeros(pad,size(tp,1));\n",
    "    tp = [padding;tp;padding];\n",
    "    padding = zeros(pad,size(tp,1));\n",
    "    tp =[padding;transpose(tp);padding];\n",
    "    figure(1)\n",
    "    subplots_adjust(top = 1, bottom = 0, right = 1, left = 0, hspace = 0, wspace = 0)\n",
    "    ax = imshow(abs.(transpose(tp)),cmap=\"gray\")\n",
    "    gca().set_axis_off()\n",
    "    margins(0,0)\n",
    "    savefig(\"imagesSF/pattern_l$(l)_k$(k).pdf\",bbox_inches=\"tight\",pad_inches=0)\n",
    "end"
   ]
  },
  {
   "cell_type": "code",
   "execution_count": null,
   "metadata": {},
   "outputs": [],
   "source": [
    "\n",
    "pad = 25;\n",
    "k = 0;\n",
    "l= 0;\n",
    "    tp = ones(size(Z))\n",
    "    padding = zeros(pad,size(tp,1));\n",
    "    tp = [padding;tp;padding];\n",
    "    padding = zeros(pad,size(tp,1));\n",
    "    tp =[padding;transpose(tp);padding];\n",
    "    figure(1)\n",
    "    subplots_adjust(top = 1, bottom = 0, right = 1, left = 0, hspace = 0, wspace = 0)\n",
    "    ax = imshow(abs.(transpose(tp)),cmap=\"gray\")\n",
    "    gca().set_axis_off()\n",
    "    margins(0,0)\n",
    "    savefig(\"imagesSF/pattern_l$(l)_k$(k).pdf\",bbox_inches=\"tight\",pad_inches=0)\n",
    "end"
   ]
  }
 ],
 "metadata": {
  "kernelspec": {
   "display_name": "Julia 1.1.1",
   "language": "julia",
   "name": "julia-1.1"
  },
  "language_info": {
   "file_extension": ".jl",
   "mimetype": "application/julia",
   "name": "julia",
   "version": "1.1.1"
  }
 },
 "nbformat": 4,
 "nbformat_minor": 2
}
