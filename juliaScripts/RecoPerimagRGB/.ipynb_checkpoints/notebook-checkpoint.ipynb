{
 "cells": [
  {
   "cell_type": "code",
   "execution_count": 14,
   "metadata": {},
   "outputs": [
    {
     "data": {
      "text/plain": [
       "ComplexToComplex (generic function with 1 method)"
      ]
     },
     "execution_count": 14,
     "metadata": {},
     "output_type": "execute_result"
    }
   ],
   "source": [
    "# julia 1.1.1\n",
    "\n",
    "function ComplexToRGB(A)\n",
    "  lengthx,lengthy,lengthz,lengthf = size(A);\n",
    "    ##### Color Phase\n",
    "    angleDeg = 360\n",
    "    maxHueInHSV = 330 # why 330 ?\n",
    "    cm = linspace_(ColorTypes.HSV(0,1,1),ColorTypes.HSV(maxHueInHSV,1,1),angleDeg);\n",
    "    cr=zeros(angleDeg);\n",
    "    cg=zeros(angleDeg);\n",
    "    cb=zeros(angleDeg);\n",
    "\n",
    "    for i=1:angleDeg\n",
    "      cr[i]=convert(RGB{Float64},cm[i]).r\n",
    "      cg[i]=convert(RGB{Float64},cm[i]).g\n",
    "      cb[i]=convert(RGB{Float64},cm[i]).b\n",
    "    end\n",
    "\n",
    "    knots=(linspace_(0,2*pi,angleDeg),);\n",
    "    itpr = interpolate(knots,cr, Gridded(Linear()));\n",
    "    itpg = interpolate(knots,cg, Gridded(Linear()));\n",
    "    itpb = interpolate(knots,cb, Gridded(Linear()));\n",
    "\n",
    "    # convert complex values to absolute value and phase into Color\n",
    "    dataAbs = abs.(A);\n",
    "    dataReal = real.(A);\n",
    "    dataImag = imag.(A);\n",
    "\n",
    "    minReal,maxReal = extrema(dataReal);\n",
    "    minImag,maxImag = extrema(dataImag);\n",
    "\n",
    "    dataAngle = angle.(A);\n",
    "    dataAngle[dataAngle.<0]=dataAngle[dataAngle.<0].+2*pi; # why shift negative by 2pi, instead of everything by pi?\n",
    "\n",
    "    dataC = zeros(Float64,lengthx,lengthy,lengthz, 3, lengthf);\n",
    "    dataC[:,:,:,1,:]=dataAbs.*reshape(itpr.(dataAngle), lengthx, lengthy, lengthz, lengthf);\n",
    "    dataC[:,:,:,2,:]=dataAbs.*reshape(itpg.(dataAngle), lengthx, lengthy, lengthz, lengthf);\n",
    "    dataC[:,:,:,3,:]=dataAbs.*reshape(itpb.(dataAngle), lengthx, lengthy, lengthz, lengthf);\n",
    "\n",
    "    minAbs,maxAbs = extrema(dataC);\n",
    "   return dataC,minAbs,maxAbs\n",
    "end\n",
    "\n",
    "\n",
    "function RGBToComplex(dataRGB)\n",
    "    lengthx,lengthy,lengthz,lengthc,lengthf = size(dataRGB);\n",
    "    dataComplex = zeros(Complex{Float32},lengthx,lengthy,lengthz,lengthf)\n",
    "\n",
    "    for k=1:lengthx\n",
    "        for l=1:lengthy\n",
    "            for m=1:lengthz\n",
    "                for n=1:lengthf\n",
    "                    rgb = ColorTypes.RGB(dataRGB[k,l,m,1,n],dataRGB[k,l,m,2,n],dataRGB[k,l,m,3,n])\n",
    "                    hsv = convert(HSV,rgb);\n",
    "                    dataComplex[k,l,m,n] = rectangularForm(hsv.v,hsv.h /330*2*pi)\n",
    "                end\n",
    "            end\n",
    "        end\n",
    "    end\n",
    "    return dataComplex\n",
    "end\n",
    "\n",
    "function rectangularForm(absolueValue, angle)\n",
    "    return absolueValue*cos(angle) + absolueValue*sin(angle)*im\n",
    "end\n",
    "\n",
    "function ComplexToComplex(dataRGB)\n",
    "    lengthx,lengthy,lengthz,lengthc,lengthf = size(dataRGB);\n",
    "    dataComplex = zeros(Complex{Float32},lengthx,lengthy,lengthz,lengthf)\n",
    "\n",
    "    for k=1:lengthx\n",
    "        for l=1:lengthy\n",
    "            for m=1:lengthz\n",
    "                for n=1:lengthf\n",
    "                    dataComplex[k,l,m,n] = dataRGB[k,l,m,1,n] + dataRGB[k,l,m,2,n]*im \n",
    "                end\n",
    "            end\n",
    "        end\n",
    "    end\n",
    "    return dataComplex\n",
    "end\n"
   ]
  },
  {
   "cell_type": "code",
   "execution_count": 2,
   "metadata": {},
   "outputs": [
    {
     "data": {
      "text/plain": [
       "IOStream(<file log.txt>)"
      ]
     },
     "execution_count": 2,
     "metadata": {},
     "output_type": "execute_result"
    }
   ],
   "source": [
    "using MPIReco,MPIFiles,PyPlot,HDF5,ImageMagick, Logging\n",
    "\n",
    "io_log = open(\"log.txt\", \"w+\")"
   ]
  },
  {
   "cell_type": "code",
   "execution_count": 3,
   "metadata": {},
   "outputs": [],
   "source": [
    "#GT System Matrix Perimag\n",
    "groundTruthSF = MPIFile(\"/opt/mpidata/20180228_180048_OpenMPIData_1_1/9\")\n",
    "freqs = filterFrequencies(groundTruthSF,minFreq=80e3,SNRThresh=3);\n",
    "\n",
    "SGT,grid = getSF(groundTruthSF,freqs,bgcorrection=false,tfCorrection=false);#\n",
    "SGTReshaped = reshape(SGT,grid.shape...,:);"
   ]
  },
  {
   "cell_type": "code",
   "execution_count": 4,
   "metadata": {},
   "outputs": [],
   "source": [
    "perimag = h5read(\"/media/daisy3/Data/data_set/MPISystemMatrix/pre_processed/Perimag_GT_SNR3_HR_3175x40x40x40x2_ImagReal.h5\",\"/data\");\n",
    "MaskGT = perimag.>0;\n",
    "perimag = perimag.*MaskGT;\n",
    "perimag = permutedims(perimag,[2,3,4,1,5]);\n",
    "perimag = ComplexToComplex(perimag[:,:,:,end:-1:1,:]);\n",
    "perimag = perimag[3:end-1,3:end-1,3:end-1,:];\n",
    "perimag = reshape(perimag,prod(grid.shape),:);"
   ]
  },
  {
   "cell_type": "code",
   "execution_count": 15,
   "metadata": {},
   "outputs": [],
   "source": [
    "# System Matrix CNN\n",
    "poisson8x = h5read(\"/media/daisy3/Data/fahadBackup/completeResults/Recovered_HR_SF_Perimag/complex_l1_poisson_8x/CNNPredict.h5\",\"/data\");\n",
    "poisson8x_name = \"complex-poisson-8x-perimag\"\n",
    "MaskPoisson8x = poisson8x.>0;\n",
    "poisson8x = poisson8x.*MaskPoisson8x;\n",
    "poisson8x = permutedims(poisson8x,[2,3,4,1,5]);\n",
    "poisson8x = ComplexToComplex(poisson8x[:,:,:,end:-1:1,:]);\n",
    "poisson8x = poisson8x[3:end-1,3:end-1,3:end-1,:];\n",
    "poisson8x = reshape(poisson8x,prod(grid.shape),:);\n",
    "\n",
    "poisson64x = h5read(\"/media/daisy3/Data/fahadBackup/completeResults/Recovered_HR_SF_Perimag/complex_l1_poisson_64x/CNNPredict.h5\",\"/data\");\n",
    "poisson64x_name = \"complex-poisson-64x-perimag\"\n",
    "MaskPoisson64x = poisson64x.>0;\n",
    "poisson64x = poisson64x.*MaskPoisson64x;\n",
    "poisson64x = permutedims(poisson64x,[2,3,4,1,5]);\n",
    "poisson64x = ComplexToComplex(poisson64x[:,:,:,end:-1:1,:]);\n",
    "poisson64x = poisson64x[3:end-1,3:end-1,3:end-1,:];\n",
    "poisson64x = reshape(poisson64x,prod(grid.shape),:);\n",
    "\n",
    "equi8x = h5read(\"/media/daisy3/Data/fahadBackup/completeResults/Recovered_HR_SF_Perimag/complex_l1_equi_8x/CNNPredict.h5\",\"/data\");\n",
    "equi8x_name = \"complex-equi-8x-perimag\"\n",
    "MaskEqui8x = equi8x.>0;\n",
    "equi8x = equi8x.*MaskEqui8x;\n",
    "equi8x = permutedims(equi8x,[2,3,4,1,5]);\n",
    "equi8x = ComplexToComplex(equi8x[:,:,:,end:-1:1,:]);\n",
    "equi8x = equi8x[3:end-1,3:end-1,3:end-1,:];\n",
    "equi8x = reshape(equi8x,prod(grid.shape),:);\n",
    "\n",
    "\n",
    "equi64x = h5read(\"/media/daisy3/Data/fahadBackup/completeResults/Recovered_HR_SF_Perimag/complex_l1_equi_64x/CNNPredict.h5\",\"/data\");\n",
    "equi64x_name = \"complex-equi-64x-perimag\"\n",
    "MaskEqui64x = equi64x.>0;\n",
    "equi64x = equi64x.*MaskEqui64x;\n",
    "equi64x =permutedims(equi64x,[2,3,4,1,5]);\n",
    "equi64x = ComplexToComplex(equi64x[:,:,:,end:-1:1,:]);\n",
    "equi64x =equi64x[3:end-1,3:end-1,3:end-1,:];\n",
    "equi64x = reshape(equi64x,prod(grid.shape),:);"
   ]
  },
  {
   "cell_type": "code",
   "execution_count": 19,
   "metadata": {},
   "outputs": [],
   "source": [
    "names = [equi8x_name,equi64x_name,poisson8x_name,poisson64x_name,\"GT\"];\n",
    "SCNNs = [equi8x,equi64x,poisson8x,poisson64x,SGT];"
   ]
  },
  {
   "cell_type": "code",
   "execution_count": 22,
   "metadata": {},
   "outputs": [
    {
     "name": "stderr",
     "output_type": "stream",
     "text": [
      "┌ Warning: /measurement/isFastFrameAxis missing in MDF data set. `measIsFastFrameAxis` returning false per default.\n",
      "└ @ MPIFiles /home/daisy3/.julia/packages/MPIFiles/SoCXa/src/MDF.jl:463\n",
      "┌ Warning: /measurement/isFastFrameAxis missing in MDF data set. `measIsFastFrameAxis` returning false per default.\n",
      "└ @ MPIFiles /home/daisy3/.julia/packages/MPIFiles/SoCXa/src/MDF.jl:463\n"
     ]
    },
    {
     "ename": "MethodError",
     "evalue": "MethodError: no method matching Array{Any,1}(::Array{Float64,2})\nClosest candidates are:\n  Array{Any,1}(::AbstractArray{S,N}) where {T, N, S} at array.jl:482\n  Array{Any,1}() where T at boot.jl:421\n  Array{Any,1}(!Matched::UndefInitializer, !Matched::Int64) where T at boot.jl:402\n  ...",
     "output_type": "error",
     "traceback": [
      "MethodError: no method matching Array{Any,1}(::Array{Float64,2})\nClosest candidates are:\n  Array{Any,1}(::AbstractArray{S,N}) where {T, N, S} at array.jl:482\n  Array{Any,1}() where T at boot.jl:421\n  Array{Any,1}(!Matched::UndefInitializer, !Matched::Int64) where T at boot.jl:402\n  ...",
      "",
      "Stacktrace:",
      " [1] convert(::Type{Array{Any,1}}, ::Array{Float64,2}) at ./array.jl:474",
      " [2] setindex!(::Array{Array{Any,1},1}, ::Array{Float64,2}, ::Int64) at ./array.jl:767",
      " [3] top-level scope at ./In[22]:9"
     ]
    }
   ],
   "source": [
    "phantoms = [\"resolutionPhantom\",\"concentrationPhantom\",\"shapePhantom\"]\n",
    "slices = [19, 13, 15]\n",
    "\n",
    "for (m,phantom) in enumerate(phantoms)\n",
    "    for l in 1:5\n",
    "        write(io_log,\"$(phantom)\\n\")\n",
    "        filenameMeas = MPIFile(\"/mnt/results/OpenMPIData/data/measurements/$(phantom)/3.mdf\")\n",
    "        u = mean(getMeasurementsFD(filenameMeas, frequencies=freqs), dims=3);\n",
    "        cCNN = reconstruction(transpose(SCNNs[l]), reshape(u,:,1), iterations=3, lambd=0.001)   \n",
    "    end\n",
    "    combinedfigure = \n",
    "    figure(1)\n",
    "    subplots_adjust(top = 1, bottom = 0, right = 1, left = 0, hspace = 0, wspace = 0)\n",
    "    ax = imshow([\n",
    "            reshape(cCNN[5],37,37,37)[:,:,slices[m]];\n",
    "            reshape(cCNN[1],37,37,37)[:,:,slices[m]];\n",
    "            reshape(cCNN[2],37,37,37)[:,:,slices[m]];\n",
    "            reshape(cCNN[3],37,37,37)[:,:,slices[m]];\n",
    "            reshape(cCNN[4],37,37,37)[:,:,slices[m]];],cmap=\"gray\")\n",
    "    gca().set_axis_off()\n",
    "    margins(0,0)\n",
    "    savefig(\"reco/$phantom.pdf\",bbox_inches=\"tight\",pad_inches=0)\n",
    "end"
   ]
  },
  {
   "cell_type": "code",
   "execution_count": null,
   "metadata": {},
   "outputs": [],
   "source": [
    "\n",
    "# image SF\\n\",\n",
    "    \"f =  1:3175\\n\",\n",
    "    \"\\n\",\n",
    "    \"for k in f\\n\",\n",
    "    \"    figure(2)\\n\",\n",
    "    \"    subplots_adjust(top = 1, bottom = 0, right = 1, left = 0, hspace = 0, wspace = 0)\\n\",\n",
    "    \"    ax = imshow(abs.(\\n\",\n",
    "    \"            [\\n\",\n",
    "    \"                reshape(perimag[:,k],37,37,37)[:,:,19];\\n\",\n",
    "    \"                reshape(SCNNs[1][:,k],37,37,37)[:,:,19];\\n\",\n",
    "    \"                reshape(SCNNs[2][:,k],37,37,37)[:,:,19];\\n\",\n",
    "    \"                reshape(SCNNs[3][:,k],37,37,37)[:,:,19];\\n\",\n",
    "    \"                reshape(SCNNs[4][:,k],37,37,37)[:,:,19];\\n\",\n",
    "    \"                ]),cmap=\\\"gray\\\",)\\n\",\n",
    "    \"    gca().set_axis_off()\\n\",\n",
    "    \"    margins(0,0)\\n\",\n",
    "    \"    \\n\",\n",
    "    \"    savefig(\\\"imagesSF/GT_$k.pdf\\\",bbox_inches=\\\"tight\\\",pad_inches=0)\\n\",\n",
    "    \"end\"\n",
    "   ]"
   ]
  }
 ],
 "metadata": {
  "kernelspec": {
   "display_name": "Julia 1.1.1",
   "language": "julia",
   "name": "julia-1.1"
  },
  "language_info": {
   "file_extension": ".jl",
   "mimetype": "application/julia",
   "name": "julia",
   "version": "1.1.1"
  }
 },
 "nbformat": 4,
 "nbformat_minor": 2
}
