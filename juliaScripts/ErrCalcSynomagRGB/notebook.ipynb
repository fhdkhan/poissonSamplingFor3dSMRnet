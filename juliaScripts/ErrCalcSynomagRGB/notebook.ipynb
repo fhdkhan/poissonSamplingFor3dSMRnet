{
 "cells": [
  {
   "cell_type": "code",
   "execution_count": 1,
   "metadata": {},
   "outputs": [
    {
     "data": {
      "text/plain": [
       "ComplexToComplex (generic function with 1 method)"
      ]
     },
     "execution_count": 1,
     "metadata": {},
     "output_type": "execute_result"
    }
   ],
   "source": [
    "# julia 1.1.1\n",
    "\n",
    "function ComplexToRGB(A)\n",
    "  lengthx,lengthy,lengthz,lengthf = size(A);\n",
    "    ##### Color Phase\n",
    "    angleDeg = 360\n",
    "    maxHueInHSV = 330 # why 330 ?\n",
    "    cm = linspace_(ColorTypes.HSV(0,1,1),ColorTypes.HSV(maxHueInHSV,1,1),angleDeg);\n",
    "    cr=zeros(angleDeg);\n",
    "    cg=zeros(angleDeg);\n",
    "    cb=zeros(angleDeg);\n",
    "\n",
    "    for i=1:angleDeg\n",
    "      cr[i]=convert(RGB{Float64},cm[i]).r\n",
    "      cg[i]=convert(RGB{Float64},cm[i]).g\n",
    "      cb[i]=convert(RGB{Float64},cm[i]).b\n",
    "    end\n",
    "\n",
    "    knots=(linspace_(0,2*pi,angleDeg),);\n",
    "    itpr = interpolate(knots,cr, Gridded(Linear()));\n",
    "    itpg = interpolate(knots,cg, Gridded(Linear()));\n",
    "    itpb = interpolate(knots,cb, Gridded(Linear()));\n",
    "\n",
    "    # convert complex values to absolute value and phase into Color\n",
    "    dataAbs = abs.(A);\n",
    "    dataReal = real.(A);\n",
    "    dataImag = imag.(A);\n",
    "\n",
    "    minReal,maxReal = extrema(dataReal);\n",
    "    minImag,maxImag = extrema(dataImag);\n",
    "\n",
    "    dataAngle = angle.(A);\n",
    "    dataAngle[dataAngle.<0]=dataAngle[dataAngle.<0].+2*pi; # why shift negative by 2pi, instead of everything by pi?\n",
    "\n",
    "    dataC = zeros(Float64,lengthx,lengthy,lengthz, 3, lengthf);\n",
    "    dataC[:,:,:,1,:]=dataAbs.*reshape(itpr.(dataAngle), lengthx, lengthy, lengthz, lengthf);\n",
    "    dataC[:,:,:,2,:]=dataAbs.*reshape(itpg.(dataAngle), lengthx, lengthy, lengthz, lengthf);\n",
    "    dataC[:,:,:,3,:]=dataAbs.*reshape(itpb.(dataAngle), lengthx, lengthy, lengthz, lengthf);\n",
    "\n",
    "    minAbs,maxAbs = extrema(dataC);\n",
    "   return dataC,minAbs,maxAbs\n",
    "end\n",
    "\n",
    "\n",
    "function RGBToComplex(dataRGB)\n",
    "    lengthx,lengthy,lengthz,lengthc,lengthf = size(dataRGB);\n",
    "    dataComplex = zeros(Complex{Float32},lengthx,lengthy,lengthz,lengthf)\n",
    "\n",
    "    for k=1:lengthx\n",
    "        for l=1:lengthy\n",
    "            for m=1:lengthz\n",
    "                for n=1:lengthf\n",
    "                    rgb = ColorTypes.RGB(dataRGB[k,l,m,1,n],dataRGB[k,l,m,2,n],dataRGB[k,l,m,3,n])\n",
    "                    hsv = convert(HSV,rgb);\n",
    "                    dataComplex[k,l,m,n] = rectangularForm(hsv.v,hsv.h /330*2*pi)\n",
    "                end\n",
    "            end\n",
    "        end\n",
    "    end\n",
    "    return dataComplex\n",
    "end\n",
    "\n",
    "function rectangularForm(absolueValue, angle)\n",
    "    return absolueValue*cos(angle) + absolueValue*sin(angle)*im\n",
    "end\n",
    "\n",
    "function ComplexToComplex(dataRGB)\n",
    "    lengthx,lengthy,lengthz,lengthc,lengthf = size(dataRGB);\n",
    "    dataComplex = zeros(Complex{Float32},lengthx,lengthy,lengthz,lengthf)\n",
    "\n",
    "    for k=1:lengthx\n",
    "        for l=1:lengthy\n",
    "            for m=1:lengthz\n",
    "                for n=1:lengthf\n",
    "                    dataComplex[k,l,m,n] = dataRGB[k,l,m,1,n] + dataRGB[k,l,m,2,n]*im \n",
    "                end\n",
    "            end\n",
    "        end\n",
    "    end\n",
    "    return dataComplex\n",
    "end\n"
   ]
  },
  {
   "cell_type": "code",
   "execution_count": 2,
   "metadata": {},
   "outputs": [
    {
     "data": {
      "text/plain": [
       "IOStream(<file log.txt>)"
      ]
     },
     "execution_count": 2,
     "metadata": {},
     "output_type": "execute_result"
    }
   ],
   "source": [
    "using MPILib, MPIReco,MPIFiles,PyPlot,HDF5,ImageMagick, Logging\n",
    "\n",
    "io_log = open(\"log.txt\", \"w+\")"
   ]
  },
  {
   "cell_type": "code",
   "execution_count": 3,
   "metadata": {},
   "outputs": [],
   "source": [
    "#GT System Matrix Synomag\n",
    "groundTruthSF = MPIFile(\"/opt/mpidata/20180228_180048_OpenMPIData_1_1/19\")\n",
    "freqs = filterFrequencies(groundTruthSF,minFreq=80e3,SNRThresh=3);\n",
    "\n",
    "SGT,grid = getSF(groundTruthSF,freqs,bgcorrection=false,tfCorrection=false);\n",
    "SGTReshaped = reshape(SGT,grid.shape...,:);"
   ]
  },
  {
   "cell_type": "code",
   "execution_count": 4,
   "metadata": {},
   "outputs": [],
   "source": [
    "Synomag = h5read(\"/media/daisy3/Data/data_set/MPISystemMatrix/pre_processed/SynomagPEG_GT_SNR3_HR_3929x40x40x40x3_RGB.h5\",\"/data\");\n",
    "Synomag_name = \"SynomagGTPro\"\n",
    "MaskGT = Synomag.>0;\n",
    "Synomag = Synomag.*MaskGT;\n",
    "Synomag = permutedims(Synomag,[2,3,4,1,5]);\n",
    "Synomag = RGBToComplex(Synomag[:,:,:,end:-1:1,:]);\n",
    "Synomag = Synomag[3:end-1,3:end-1,3:end-1,:];\n",
    "Synomag = reshape(Synomag,prod(grid.shape),:);"
   ]
  },
  {
   "cell_type": "code",
   "execution_count": 5,
   "metadata": {},
   "outputs": [],
   "source": [
    "# System Matrix CNN\n",
    "\n",
    "poisson8x = h5read(\"/media/daisy3/Data/fahadBackup/completeResults/Recovered_HR_SF_SynomagPEG/rgb_l1_poisson_8x/CNNPredict.h5\",\"/data\");\n",
    "poisson8x_name = \"rgb-poisson-8x-SynomagPEG\"\n",
    "MaskPoisson8x = poisson8x.>0;\n",
    "poisson8x = poisson8x.*MaskPoisson8x;\n",
    "poisson8x = permutedims(poisson8x,[2,3,4,1,5]);\n",
    "poisson8x = RGBToComplex(poisson8x[:,:,:,end:-1:1,:]);\n",
    "poisson8x = poisson8x[3:end-1,3:end-1,3:end-1,:];\n",
    "poisson8x = reshape(poisson8x,prod(grid.shape),:);\n",
    "\n",
    "poisson64x = h5read(\"/media/daisy3/Data/fahadBackup/completeResults/Recovered_HR_SF_SynomagPEG/rgb_l1_poisson_64x/CNNPredict.h5\",\"/data\");\n",
    "poisson64x_name = \"rgb-poisson-64x-SynomagPEG\"\n",
    "MaskPoisson64x = poisson64x.>0;\n",
    "poisson64x = poisson64x.*MaskPoisson64x;\n",
    "poisson64x = permutedims(poisson64x,[2,3,4,1,5]);\n",
    "poisson64x = RGBToComplex(poisson64x[:,:,:,end:-1:1,:]);\n",
    "poisson64x = poisson64x[3:end-1,3:end-1,3:end-1,:];\n",
    "poisson64x = reshape(poisson64x,prod(grid.shape),:);\n",
    "\n",
    "equi8x = h5read(\"/media/daisy3/Data/fahadBackup/completeResults/Recovered_HR_SF_SynomagPEG/rgb_l1_equi_8x/CNNPredict.h5\",\"/data\");\n",
    "equi8x_name = \"rgb-equi-8x-SynomagPEG\"\n",
    "MaskEqui8x = equi8x.>0;\n",
    "equi8x = equi8x.*MaskEqui8x;\n",
    "equi8x = permutedims(equi8x,[2,3,4,1,5]);\n",
    "equi8x = RGBToComplex(equi8x[:,:,:,end:-1:1,:]);\n",
    "equi8x = equi8x[3:end-1,3:end-1,3:end-1,:];\n",
    "equi8x = reshape(equi8x,prod(grid.shape),:);\n",
    "\n",
    "equi64x = h5read(\"/media/daisy3/Data/fahadBackup/completeResults/Recovered_HR_SF_SynomagPEG/rgb_l1_equi_64x/CNNPredict.h5\",\"/data\");\n",
    "equi64x_name = \"rgb-equi-64x-SynomagPEG\"\n",
    "MaskEqui64x = equi64x.>0;\n",
    "equi64x = equi64x.*MaskEqui64x;\n",
    "equi64x =permutedims(equi64x,[2,3,4,1,5]);\n",
    "equi64x = RGBToComplex(equi64x[:,:,:,end:-1:1,:]);\n",
    "equi64x =equi64x[3:end-1,3:end-1,3:end-1,:];\n",
    "equi64x = reshape(equi64x,prod(grid.shape),:);"
   ]
  },
  {
   "cell_type": "code",
   "execution_count": 6,
   "metadata": {},
   "outputs": [
    {
     "data": {
      "text/plain": [
       "nrmse (generic function with 1 method)"
      ]
     },
     "execution_count": 6,
     "metadata": {},
     "output_type": "execute_result"
    }
   ],
   "source": [
    "function nrmse(I, Ireco; alpha=(dot(vec(Ireco),vec(I))) / (dot(vec(Ireco),vec(Ireco))))\n",
    "  N = length(I)\n",
    "  # This is a little trick. We usually are not interested in simple scalings\n",
    "  # and therefore \"calibrate\" them away\n",
    "  I2 = Ireco.*alpha\n",
    "  RMS =  1.0/sqrt(N)*norm(vec(I)-vec(I2))\n",
    "  NRMS = RMS/(maximum(abs.(I))-minimum(abs.(I)))\n",
    "  return NRMS, I2\n",
    "end"
   ]
  },
  {
   "cell_type": "code",
   "execution_count": 7,
   "metadata": {
    "scrolled": false
   },
   "outputs": [
    {
     "name": "stderr",
     "output_type": "stream",
     "text": [
      "┌ Info: Processing rgb-equi-8x-SynomagPEG\n",
      "└ @ Main In[7]:7\n",
      "┌ Info: (\"Mean NRMSE: \", 0.034657439953732924)\n",
      "└ @ Main In[7]:20\n",
      "┌ Info: (\"Num freqs with error below 5%: \", 3016, \" percentage: \", 76.76253499618223, \"%\")\n",
      "└ @ Main In[7]:24\n",
      "┌ Info: Processing rgb-equi-64x-SynomagPEG\n",
      "└ @ Main In[7]:7\n",
      "┌ Info: (\"Mean NRMSE: \", 0.0409831125233422)\n",
      "└ @ Main In[7]:20\n",
      "┌ Info: (\"Num freqs with error below 5%: \", 2702, \" percentage: \", 68.77067956222957, \"%\")\n",
      "└ @ Main In[7]:24\n",
      "┌ Info: Processing rgb-poisson-8x-SynomagPEG\n",
      "└ @ Main In[7]:7\n",
      "┌ Info: (\"Mean NRMSE: \", 0.10199003180488374)\n",
      "└ @ Main In[7]:20\n",
      "┌ Info: (\"Num freqs with error below 5%: \", 513, \" percentage: \", 13.056757444642402, \"%\")\n",
      "└ @ Main In[7]:24\n",
      "┌ Info: Processing rgb-poisson-64x-SynomagPEG\n",
      "└ @ Main In[7]:7\n",
      "┌ Info: (\"Mean NRMSE: \", 0.06312379718642502)\n",
      "└ @ Main In[7]:20\n",
      "┌ Info: (\"Num freqs with error below 5%: \", 1780, \" percentage: \", 45.30414863833037, \"%\")\n",
      "└ @ Main In[7]:24\n",
      "┌ Info: Processing SynomagGTPro\n",
      "└ @ Main In[7]:7\n",
      "┌ Info: (\"Mean NRMSE: \", 2.3237576169424235e-5)\n",
      "└ @ Main In[7]:20\n",
      "┌ Info: (\"Num freqs with error below 5%: \", 3929, \" percentage: \", 100.0, \"%\")\n",
      "└ @ Main In[7]:24\n"
     ]
    }
   ],
   "source": [
    "names = [equi8x_name,equi64x_name,poisson8x_name,poisson64x_name,Synomag_name]\n",
    "SCNNs = [equi8x,equi64x,poisson8x,poisson64x,Synomag]\n",
    "\n",
    "over5CNN = []\n",
    "nrmseS = []\n",
    "for l=1:length(names)\n",
    "    @info \"Processing $(names[l])\"\n",
    "    write(io_log, \"Processing $(names[l])\\n\")\n",
    "    \n",
    "    nrmseStmp = zeros(length(freqs))\n",
    "    for k=1:length(freqs)\n",
    "        nrmseStmp[k],  = nrmse(SGT[:,k],SCNNs[l][:,k]);\n",
    "        if isnan(nrmseStmp[k])\n",
    "            nrmseStmp[k] = 1\n",
    "            println(\"NAN found:\",k)\n",
    "       end\n",
    "    end\n",
    "    push!(nrmseS, nrmseStmp)\n",
    "   \n",
    "    @info \"Mean NRMSE: \", mean(nrmseStmp)\n",
    "    write(io_log, \"Mean NRMSE: $(mean(nrmseStmp))\\n\")\n",
    "\n",
    "    over5CNN=findall(x->x<=0.05,nrmseStmp)\n",
    "    @info \"Num freqs with error below 5%: \",length(over5CNN),\" percentage: \",length(over5CNN)/length(freqs)*100,\"%\"\n",
    "    write(io_log, \"Num freqs with error below 5%: $(length(over5CNN)) percentage: $(length(over5CNN)/length(freqs)*100)%)\\n\")\n",
    "end"
   ]
  },
  {
   "cell_type": "code",
   "execution_count": 8,
   "metadata": {},
   "outputs": [],
   "source": [
    "SNR = MPILib.getSNRAllFrequencies(groundTruthSF);"
   ]
  },
  {
   "cell_type": "code",
   "execution_count": 9,
   "metadata": {
    "scrolled": true
   },
   "outputs": [
    {
     "data": {
      "image/png": "[encoded data removed]",
      "text/plain": [
       "Figure(PyObject <Figure size 640x480 with 4 Axes>)"
      ]
     },
     "metadata": {},
     "output_type": "display_data"
    }
   ],
   "source": [
    "names2 = [\"rgb-equi-8x\",\"rgb-equi-64x\",\"rgb-poisson-8x\",\"rgb-poisson-64x\"]\n",
    "\n",
    "colL = [\"b\",\"r\",\"g\",\"m\",\"c\",\"k\"]\n",
    "col = [\"b*\",\"r*\",\"g*\",\"m*\",\"c*\",\"k*\"]\n",
    "for i=1:4\n",
    "    figure(1)\n",
    "    subplot(4,1,i)\n",
    "    subplots_adjust(hspace=0.4)\n",
    "    plot(mean(nrmseS[i])*ones(600),collect(1:600),colL[i])\n",
    "    plot(nrmseS[i],SNR[freqs],col[i],label=names2[i])\n",
    "    #plot(nrmseS[i][vcat(1,138,200)],SNR[freqs[vcat(1,138,200)]],\"yo\")\n",
    "    xlim((0 ,0.27))\n",
    "    legend(),xlabel(\"NRMSE\"),ylabel(\"SNR\")\n",
    "end\n",
    "\n",
    "savefig(\"errorSynoRGB.pdf\")"
   ]
  },
  {
   "cell_type": "code",
   "execution_count": null,
   "metadata": {},
   "outputs": [],
   "source": [
    "# image SF\n",
    "f =  1001:1500\n",
    "#rgb-equi-64x-SynomagPEG\n",
    "\n",
    "for k in f\n",
    "    figure(2)\n",
    "    subplots_adjust(top = 1, bottom = 0, right = 1, left = 0, hspace = 0, wspace = 0)\n",
    "    ax = imshow(abs.(\n",
    "            [\n",
    "                reshape(Synomag[:,k],37,37,37)[:,:,19];\n",
    "                reshape(SCNNs[1][:,k],37,37,37)[:,:,19];\n",
    "                reshape(SCNNs[2][:,k],37,37,37)[:,:,19];\n",
    "                reshape(SCNNs[3][:,k],37,37,37)[:,:,19];\n",
    "                reshape(SCNNs[4][:,k],37,37,37)[:,:,19];\n",
    "                ]),cmap=\"gray\",)\n",
    "    gca().set_axis_off()\n",
    "    margins(0,0)\n",
    "    \n",
    "    savefig(\"imagesSF/GT_$k.pdf\",bbox_inches=\"tight\",pad_inches=0)\n",
    "end"
   ]
  },
  {
   "cell_type": "code",
   "execution_count": null,
   "metadata": {},
   "outputs": [],
   "source": []
  }
 ],
 "metadata": {
  "kernelspec": {
   "display_name": "Julia 1.1.1",
   "language": "julia",
   "name": "julia-1.1"
  },
  "language_info": {
   "file_extension": ".jl",
   "mimetype": "application/julia",
   "name": "julia",
   "version": "1.1.1"
  }
 },
 "nbformat": 4,
 "nbformat_minor": 2
}
