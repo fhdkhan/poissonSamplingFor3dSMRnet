{
 "cells": [
  {
   "cell_type": "code",
   "execution_count": 1,
   "metadata": {},
   "outputs": [
    {
     "data": {
      "text/plain": [
       "ComplexToComplex (generic function with 1 method)"
      ]
     },
     "execution_count": 1,
     "metadata": {},
     "output_type": "execute_result"
    }
   ],
   "source": [
    "# julia 1.1.1\n",
    "\n",
    "function ComplexToRGB(A)\n",
    "  lengthx,lengthy,lengthz,lengthf = size(A);\n",
    "    ##### Color Phase\n",
    "    angleDeg = 360\n",
    "    maxHueInHSV = 330 # why 330 ?\n",
    "    cm = linspace_(ColorTypes.HSV(0,1,1),ColorTypes.HSV(maxHueInHSV,1,1),angleDeg);\n",
    "    cr=zeros(angleDeg);\n",
    "    cg=zeros(angleDeg);\n",
    "    cb=zeros(angleDeg);\n",
    "\n",
    "    for i=1:angleDeg\n",
    "      cr[i]=convert(RGB{Float64},cm[i]).r\n",
    "      cg[i]=convert(RGB{Float64},cm[i]).g\n",
    "      cb[i]=convert(RGB{Float64},cm[i]).b\n",
    "    end\n",
    "\n",
    "    knots=(linspace_(0,2*pi,angleDeg),);\n",
    "    itpr = interpolate(knots,cr, Gridded(Linear()));\n",
    "    itpg = interpolate(knots,cg, Gridded(Linear()));\n",
    "    itpb = interpolate(knots,cb, Gridded(Linear()));\n",
    "\n",
    "    # convert complex values to absolute value and phase into Color\n",
    "    dataAbs = abs.(A);\n",
    "    dataReal = real.(A);\n",
    "    dataImag = imag.(A);\n",
    "\n",
    "    minReal,maxReal = extrema(dataReal);\n",
    "    minImag,maxImag = extrema(dataImag);\n",
    "\n",
    "    dataAngle = angle.(A);\n",
    "    dataAngle[dataAngle.<0]=dataAngle[dataAngle.<0].+2*pi; # why shift negative by 2pi, instead of everything by pi?\n",
    "\n",
    "    dataC = zeros(Float64,lengthx,lengthy,lengthz, 3, lengthf);\n",
    "    dataC[:,:,:,1,:]=dataAbs.*reshape(itpr.(dataAngle), lengthx, lengthy, lengthz, lengthf);\n",
    "    dataC[:,:,:,2,:]=dataAbs.*reshape(itpg.(dataAngle), lengthx, lengthy, lengthz, lengthf);\n",
    "    dataC[:,:,:,3,:]=dataAbs.*reshape(itpb.(dataAngle), lengthx, lengthy, lengthz, lengthf);\n",
    "\n",
    "    minAbs,maxAbs = extrema(dataC);\n",
    "   return dataC,minAbs,maxAbs\n",
    "end\n",
    "\n",
    "\n",
    "function RGBToComplex(dataRGB)\n",
    "    lengthx,lengthy,lengthz,lengthc,lengthf = size(dataRGB);\n",
    "    dataComplex = zeros(Complex{Float32},lengthx,lengthy,lengthz,lengthf)\n",
    "\n",
    "    for k=1:lengthx\n",
    "        for l=1:lengthy\n",
    "            for m=1:lengthz\n",
    "                for n=1:lengthf\n",
    "                    rgb = ColorTypes.RGB(dataRGB[k,l,m,1,n],dataRGB[k,l,m,2,n],dataRGB[k,l,m,3,n])\n",
    "                    hsv = convert(HSV,rgb);\n",
    "                    dataComplex[k,l,m,n] = rectangularForm(hsv.v,hsv.h /330*2*pi)\n",
    "                end\n",
    "            end\n",
    "        end\n",
    "    end\n",
    "    return dataComplex\n",
    "end\n",
    "\n",
    "function rectangularForm(absolueValue, angle)\n",
    "    return absolueValue*cos(angle) + absolueValue*sin(angle)*im\n",
    "end\n",
    "\n",
    "function ComplexToComplex(dataRGB)\n",
    "    lengthx,lengthy,lengthz,lengthc,lengthf = size(dataRGB);\n",
    "    dataComplex = zeros(Complex{Float32},lengthx,lengthy,lengthz,lengthf)\n",
    "\n",
    "    for k=1:lengthx\n",
    "        for l=1:lengthy\n",
    "            for m=1:lengthz\n",
    "                for n=1:lengthf\n",
    "                    dataComplex[k,l,m,n] = dataRGB[k,l,m,1,n] + dataRGB[k,l,m,2,n]*im \n",
    "                end\n",
    "            end\n",
    "        end\n",
    "    end\n",
    "    return dataComplex\n",
    "end\n"
   ]
  },
  {
   "cell_type": "code",
   "execution_count": 2,
   "metadata": {},
   "outputs": [
    {
     "data": {
      "text/plain": [
       "IOStream(<file log.txt>)"
      ]
     },
     "execution_count": 2,
     "metadata": {},
     "output_type": "execute_result"
    }
   ],
   "source": [
    "using MPIReco,MPIFiles,PyPlot,HDF5,ImageMagick, Logging\n",
    "\n",
    "io_log = open(\"log.txt\", \"w+\")"
   ]
  },
  {
   "cell_type": "code",
   "execution_count": 3,
   "metadata": {},
   "outputs": [],
   "source": [
    "#GT System Matrix Synomag\n",
    "groundTruthSF = MPIFile(\"/opt/mpidata/20180228_180048_OpenMPIData_1_1/19\")\n",
    "freqs = filterFrequencies(groundTruthSF,minFreq=80e3,SNRThresh=3);\n",
    "\n",
    "SGT,grid = getSF(groundTruthSF,freqs,bgcorrection=false,tfCorrection=false);\n",
    "SGTReshaped = reshape(SGT,grid.shape...,:);"
   ]
  },
  {
   "cell_type": "code",
   "execution_count": 8,
   "metadata": {},
   "outputs": [],
   "source": [
    "Synomag = h5read(\"/media/daisy3/Data/data_set/MPISystemMatrix/pre_processed/SynomagPEG_GT_SNR3_HR_3929x40x40x40x2_ImagReal.h5\",\"/data\");\n",
    "Synomag_name = \"synomagGTPro\"\n",
    "Synomag = permutedims(Synomag,[2,3,4,1,5]);\n",
    "Synomag = ComplexToComplex(Synomag[:,:,:,end:-1:1,:]);\n",
    "Synomag = Synomag[3:end-1,3:end-1,3:end-1,:];\n",
    "Synomag = reshape(Synomag,prod(grid.shape),:);"
   ]
  },
  {
   "cell_type": "code",
   "execution_count": 5,
   "metadata": {},
   "outputs": [],
   "source": [
    "# System Matrix CNN\n",
    "\n",
    "poisson8x = h5read(\"/media/daisy3/Data/fahadBackup/completeResults/Recovered_HR_SF_SynomagPEG/complex_l1_poisson_8x/CNNPredict.h5\",\"/data\");\n",
    "poisson8x_name = \"complex-poisson-8x-SynomagPEG\"\n",
    "poisson8x = permutedims(poisson8x,[2,3,4,1,5]);\n",
    "poisson8x = ComplexToComplex(poisson8x[:,:,:,end:-1:1,:]);\n",
    "poisson8x = poisson8x[3:end-1,3:end-1,3:end-1,:];\n",
    "poisson8x = reshape(poisson8x,prod(grid.shape),:);\n",
    "\n",
    "poisson64x = h5read(\"/media/daisy3/Data/fahadBackup/completeResults/Recovered_HR_SF_SynomagPEG/complex_l1_poisson_64x/CNNPredict.h5\",\"/data\");\n",
    "poisson64x_name = \"complex-poisson-64x-SynomagPEG\"\n",
    "poisson64x = permutedims(poisson64x,[2,3,4,1,5]);\n",
    "poisson64x = ComplexToComplex(poisson64x[:,:,:,end:-1:1,:]);\n",
    "poisson64x = poisson64x[3:end-1,3:end-1,3:end-1,:];\n",
    "poisson64x = reshape(poisson64x,prod(grid.shape),:);\n",
    "\n",
    "equi8x = h5read(\"/media/daisy3/Data/fahadBackup/completeResults/Recovered_HR_SF_SynomagPEG/complex_l1_equi_8x/CNNPredict.h5\",\"/data\");\n",
    "equi8x_name = \"complex-equi-8x-SynomagPEG\"\n",
    "equi8x = permutedims(equi8x,[2,3,4,1,5]);\n",
    "equi8x = ComplexToComplex(equi8x[:,:,:,end:-1:1,:]);\n",
    "equi8x = equi8x[3:end-1,3:end-1,3:end-1,:];\n",
    "equi8x = reshape(equi8x,prod(grid.shape),:);\n",
    "\n",
    "equi64x = h5read(\"/media/daisy3/Data/fahadBackup/completeResults/Recovered_HR_SF_SynomagPEG/complex_l1_equi_64x/CNNPredict.h5\",\"/data\");\n",
    "equi64x_name = \"complex-equi-64x-SynomagPEG\"\n",
    "equi64x =permutedims(equi64x,[2,3,4,1,5]);\n",
    "equi64x = ComplexToComplex(equi64x[:,:,:,end:-1:1,:]);\n",
    "equi64x =equi64x[3:end-1,3:end-1,3:end-1,:];\n",
    "equi64x = reshape(equi64x,prod(grid.shape),:);"
   ]
  },
  {
   "cell_type": "code",
   "execution_count": 6,
   "metadata": {},
   "outputs": [],
   "source": [
    "names = [equi8x_name,equi64x_name,poisson8x_name,poisson64x_name,\"GT\",\"GT_Pro\"];\n",
    "SCNNs = [equi8x,equi64x,poisson8x,poisson64x,SGT,Synomag];"
   ]
  },
  {
   "cell_type": "code",
   "execution_count": 7,
   "metadata": {},
   "outputs": [
    {
     "name": "stderr",
     "output_type": "stream",
     "text": [
      "┌ Warning: /measurement/isFastFrameAxis missing in MDF data set. `measIsFastFrameAxis` returning false per default.\n",
      "└ @ MPIFiles /home/daisy3/.julia/packages/MPIFiles/SoCXa/src/MDF.jl:463\n",
      "┌ Warning: /measurement/isFastFrameAxis missing in MDF data set. `measIsFastFrameAxis` returning false per default.\n",
      "└ @ MPIFiles /home/daisy3/.julia/packages/MPIFiles/SoCXa/src/MDF.jl:463\n",
      "┌ Warning: /measurement/isFastFrameAxis missing in MDF data set. `measIsFastFrameAxis` returning false per default.\n",
      "└ @ MPIFiles /home/daisy3/.julia/packages/MPIFiles/SoCXa/src/MDF.jl:463\n",
      "┌ Warning: /measurement/isFastFrameAxis missing in MDF data set. `measIsFastFrameAxis` returning false per default.\n",
      "└ @ MPIFiles /home/daisy3/.julia/packages/MPIFiles/SoCXa/src/MDF.jl:463\n",
      "┌ Warning: /measurement/isFastFrameAxis missing in MDF data set. `measIsFastFrameAxis` returning false per default.\n",
      "└ @ MPIFiles /home/daisy3/.julia/packages/MPIFiles/SoCXa/src/MDF.jl:463\n",
      "┌ Warning: /measurement/isFastFrameAxis missing in MDF data set. `measIsFastFrameAxis` returning false per default.\n",
      "└ @ MPIFiles /home/daisy3/.julia/packages/MPIFiles/SoCXa/src/MDF.jl:463\n",
      "┌ Warning: /measurement/isFastFrameAxis missing in MDF data set. `measIsFastFrameAxis` returning false per default.\n",
      "└ @ MPIFiles /home/daisy3/.julia/packages/MPIFiles/SoCXa/src/MDF.jl:463\n",
      "┌ Warning: /measurement/isFastFrameAxis missing in MDF data set. `measIsFastFrameAxis` returning false per default.\n",
      "└ @ MPIFiles /home/daisy3/.julia/packages/MPIFiles/SoCXa/src/MDF.jl:463\n",
      "┌ Warning: /measurement/isFastFrameAxis missing in MDF data set. `measIsFastFrameAxis` returning false per default.\n",
      "└ @ MPIFiles /home/daisy3/.julia/packages/MPIFiles/SoCXa/src/MDF.jl:463\n",
      "┌ Warning: /measurement/isFastFrameAxis missing in MDF data set. `measIsFastFrameAxis` returning false per default.\n",
      "└ @ MPIFiles /home/daisy3/.julia/packages/MPIFiles/SoCXa/src/MDF.jl:463\n",
      "┌ Warning: /measurement/isFastFrameAxis missing in MDF data set. `measIsFastFrameAxis` returning false per default.\n",
      "└ @ MPIFiles /home/daisy3/.julia/packages/MPIFiles/SoCXa/src/MDF.jl:463\n",
      "┌ Warning: /measurement/isFastFrameAxis missing in MDF data set. `measIsFastFrameAxis` returning false per default.\n",
      "└ @ MPIFiles /home/daisy3/.julia/packages/MPIFiles/SoCXa/src/MDF.jl:463\n",
      "┌ Warning: /measurement/isFastFrameAxis missing in MDF data set. `measIsFastFrameAxis` returning false per default.\n",
      "└ @ MPIFiles /home/daisy3/.julia/packages/MPIFiles/SoCXa/src/MDF.jl:463\n",
      "┌ Warning: /measurement/isFastFrameAxis missing in MDF data set. `measIsFastFrameAxis` returning false per default.\n",
      "└ @ MPIFiles /home/daisy3/.julia/packages/MPIFiles/SoCXa/src/MDF.jl:463\n",
      "┌ Warning: /measurement/isFastFrameAxis missing in MDF data set. `measIsFastFrameAxis` returning false per default.\n",
      "└ @ MPIFiles /home/daisy3/.julia/packages/MPIFiles/SoCXa/src/MDF.jl:463\n",
      "┌ Warning: /measurement/isFastFrameAxis missing in MDF data set. `measIsFastFrameAxis` returning false per default.\n",
      "└ @ MPIFiles /home/daisy3/.julia/packages/MPIFiles/SoCXa/src/MDF.jl:463\n",
      "┌ Warning: /measurement/isFastFrameAxis missing in MDF data set. `measIsFastFrameAxis` returning false per default.\n",
      "└ @ MPIFiles /home/daisy3/.julia/packages/MPIFiles/SoCXa/src/MDF.jl:463\n",
      "┌ Warning: /measurement/isFastFrameAxis missing in MDF data set. `measIsFastFrameAxis` returning false per default.\n",
      "└ @ MPIFiles /home/daisy3/.julia/packages/MPIFiles/SoCXa/src/MDF.jl:463\n",
      "┌ Warning: /measurement/isFastFrameAxis missing in MDF data set. `measIsFastFrameAxis` returning false per default.\n",
      "└ @ MPIFiles /home/daisy3/.julia/packages/MPIFiles/SoCXa/src/MDF.jl:463\n",
      "┌ Warning: /measurement/isFastFrameAxis missing in MDF data set. `measIsFastFrameAxis` returning false per default.\n",
      "└ @ MPIFiles /home/daisy3/.julia/packages/MPIFiles/SoCXa/src/MDF.jl:463\n",
      "┌ Warning: /measurement/isFastFrameAxis missing in MDF data set. `measIsFastFrameAxis` returning false per default.\n",
      "└ @ MPIFiles /home/daisy3/.julia/packages/MPIFiles/SoCXa/src/MDF.jl:463\n",
      "┌ Warning: /measurement/isFastFrameAxis missing in MDF data set. `measIsFastFrameAxis` returning false per default.\n",
      "└ @ MPIFiles /home/daisy3/.julia/packages/MPIFiles/SoCXa/src/MDF.jl:463\n",
      "┌ Warning: /measurement/isFastFrameAxis missing in MDF data set. `measIsFastFrameAxis` returning false per default.\n",
      "└ @ MPIFiles /home/daisy3/.julia/packages/MPIFiles/SoCXa/src/MDF.jl:463\n",
      "┌ Warning: /measurement/isFastFrameAxis missing in MDF data set. `measIsFastFrameAxis` returning false per default.\n",
      "└ @ MPIFiles /home/daisy3/.julia/packages/MPIFiles/SoCXa/src/MDF.jl:463\n",
      "┌ Warning: /measurement/isFastFrameAxis missing in MDF data set. `measIsFastFrameAxis` returning false per default.\n",
      "└ @ MPIFiles /home/daisy3/.julia/packages/MPIFiles/SoCXa/src/MDF.jl:463\n",
      "┌ Warning: /measurement/isFastFrameAxis missing in MDF data set. `measIsFastFrameAxis` returning false per default.\n",
      "└ @ MPIFiles /home/daisy3/.julia/packages/MPIFiles/SoCXa/src/MDF.jl:463\n",
      "┌ Warning: /measurement/isFastFrameAxis missing in MDF data set. `measIsFastFrameAxis` returning false per default.\n",
      "└ @ MPIFiles /home/daisy3/.julia/packages/MPIFiles/SoCXa/src/MDF.jl:463\n",
      "┌ Warning: /measurement/isFastFrameAxis missing in MDF data set. `measIsFastFrameAxis` returning false per default.\n",
      "└ @ MPIFiles /home/daisy3/.julia/packages/MPIFiles/SoCXa/src/MDF.jl:463\n",
      "┌ Warning: /measurement/isFastFrameAxis missing in MDF data set. `measIsFastFrameAxis` returning false per default.\n",
      "└ @ MPIFiles /home/daisy3/.julia/packages/MPIFiles/SoCXa/src/MDF.jl:463\n",
      "┌ Warning: /measurement/isFastFrameAxis missing in MDF data set. `measIsFastFrameAxis` returning false per default.\n",
      "└ @ MPIFiles /home/daisy3/.julia/packages/MPIFiles/SoCXa/src/MDF.jl:463\n",
      "┌ Warning: /measurement/isFastFrameAxis missing in MDF data set. `measIsFastFrameAxis` returning false per default.\n",
      "└ @ MPIFiles /home/daisy3/.julia/packages/MPIFiles/SoCXa/src/MDF.jl:463\n",
      "┌ Warning: /measurement/isFastFrameAxis missing in MDF data set. `measIsFastFrameAxis` returning false per default.\n",
      "└ @ MPIFiles /home/daisy3/.julia/packages/MPIFiles/SoCXa/src/MDF.jl:463\n",
      "┌ Warning: /measurement/isFastFrameAxis missing in MDF data set. `measIsFastFrameAxis` returning false per default.\n",
      "└ @ MPIFiles /home/daisy3/.julia/packages/MPIFiles/SoCXa/src/MDF.jl:463\n",
      "┌ Warning: /measurement/isFastFrameAxis missing in MDF data set. `measIsFastFrameAxis` returning false per default.\n",
      "└ @ MPIFiles /home/daisy3/.julia/packages/MPIFiles/SoCXa/src/MDF.jl:463\n",
      "┌ Warning: /measurement/isFastFrameAxis missing in MDF data set. `measIsFastFrameAxis` returning false per default.\n",
      "└ @ MPIFiles /home/daisy3/.julia/packages/MPIFiles/SoCXa/src/MDF.jl:463\n",
      "┌ Warning: /measurement/isFastFrameAxis missing in MDF data set. `measIsFastFrameAxis` returning false per default.\n",
      "└ @ MPIFiles /home/daisy3/.julia/packages/MPIFiles/SoCXa/src/MDF.jl:463\n"
     ]
    },
    {
     "data": {
      "image/png": "[encoded data removed]",
      "text/plain": [
       "Figure(PyObject <Figure size 640x480 with 1 Axes>)"
      ]
     },
     "metadata": {},
     "output_type": "display_data"
    }
   ],
   "source": [
    "phantoms = [\"resolutionPhantom\",\"concentrationPhantom\",\"shapePhantom\"]\n",
    "slices = [19, 13, 15]\n",
    "\n",
    "for (m,phantom) in enumerate(phantoms)\n",
    "   for l in 1:6\n",
    "        write(io_log,\"$(phantom)\\n\")\n",
    "        filenameMeas = MPIFile(\"/mnt/results/OpenMPIData/data/measurements/$(phantom)/3.mdf\")\n",
    "        u = mean(getMeasurementsFD(filenameMeas, frequencies=freqs), dims=3);\n",
    "        cCNN = reconstruction(transpose(SCNNs[l]), reshape(u,:,1), iterations=3, lambd=0.001)   \n",
    "        figure(1)\n",
    "        subplots_adjust(top = 1, bottom = 0, right = 1, left = 0, hspace = 0, wspace = 0)\n",
    "        ax = imshow(reshape(cCNN,37,37,37)[:,:,slices[m]],cmap=\"gray\")\n",
    "        gca().set_axis_off()\n",
    "        margins(0,0)\n",
    "        savefig(\"reco/$(names[l])_$phantom.pdf\",bbox_inches=\"tight\",pad_inches=0)\n",
    "    end\n",
    "end"
   ]
  },
  {
   "cell_type": "code",
   "execution_count": null,
   "metadata": {},
   "outputs": [],
   "source": []
  }
 ],
 "metadata": {
  "kernelspec": {
   "display_name": "Julia 1.1.1",
   "language": "julia",
   "name": "julia-1.1"
  },
  "language_info": {
   "file_extension": ".jl",
   "mimetype": "application/julia",
   "name": "julia",
   "version": "1.1.1"
  }
 },
 "nbformat": 4,
 "nbformat_minor": 2
}
